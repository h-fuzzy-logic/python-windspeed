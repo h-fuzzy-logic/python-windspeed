{
  "nbformat": 4,
  "nbformat_minor": 0,
  "metadata": {
    "colab": {
      "name": "Windspeed Predictions with TPU.ipynb",
      "provenance": [],
      "collapsed_sections": [],
      "authorship_tag": "ABX9TyMA3YDPPR66BzgiTEcpHK2e"
    },
    "kernelspec": {
      "name": "python3",
      "display_name": "Python 3"
    },
    "accelerator": "TPU"
  },
  "cells": [
    {
      "cell_type": "markdown",
      "metadata": {
        "id": "go2l7m97lzPc"
      },
      "source": [
        "####Introduction\n",
        "Example of using TPUs for CNN to predict windspeed from satellite image of hurricane.  Images are in a Google Bucket in TFRecord format (instead of JPG) to reduce model training time.  TFRecord format allows for more efficient streaming to the model.  \n",
        "\n",
        "During training, the model checkpoints are saved for the best MSE.  After traning, the final model is saved.   "
      ]
    },
    {
      "cell_type": "markdown",
      "metadata": {
        "id": "dVsnPc7Vdz5M"
      },
      "source": [
        "####**Initial Setup**\n",
        "Prepare to connect to Google Bucket and Google Drive plus other imports"
      ]
    },
    {
      "cell_type": "code",
      "metadata": {
        "id": "K4Zp5LMMc1UK"
      },
      "source": [
        "from google.colab import drive\n",
        "from google.colab import auth\n",
        "auth.authenticate_user()"
      ],
      "execution_count": null,
      "outputs": []
    },
    {
      "cell_type": "code",
      "metadata": {
        "id": "zZEUak8BdQEb"
      },
      "source": [
        "import datetime \n",
        "import numpy as np\n",
        "import os\n",
        "\n",
        "#from functools import partial\n",
        "\n",
        "import keras as keras\n",
        "\n",
        "import tensorflow as tf\n",
        "import tensorflow_datasets as tfds\n",
        "\n",
        "from tensorflow.keras.layers import Conv2D, Dense, GlobalAveragePooling2D, MaxPooling2D, \\\n",
        "                                    Flatten, BatchNormalization, Dropout, Input, concatenate\n",
        "from tensorflow.keras.models import Sequential, Model\n",
        "from tensorflow.keras.layers.experimental import preprocessing\n",
        "from tensorflow.keras.callbacks import ModelCheckpoint\n",
        "\n",
        "#import tqdm\n"
      ],
      "execution_count": null,
      "outputs": []
    },
    {
      "cell_type": "markdown",
      "metadata": {
        "id": "5SliUIwIef7U"
      },
      "source": [
        "####**TPU Setup**\n",
        "Connect to cluster and set distribution strategy"
      ]
    },
    {
      "cell_type": "code",
      "metadata": {
        "colab": {
          "base_uri": "https://localhost:8080/"
        },
        "id": "3-UrICSxebqk",
        "outputId": "c1b42a95-e16f-44a5-8434-2deafff393a0"
      },
      "source": [
        "resolver = tf.distribute.cluster_resolver.TPUClusterResolver(tpu='grpc://' + os.environ['COLAB_TPU_ADDR'])\n",
        "tf.config.experimental_connect_to_cluster(resolver)\n",
        "tf.tpu.experimental.initialize_tpu_system(resolver)\n",
        "print(\"All devices: \", tf.config.list_logical_devices('TPU'))\n",
        "\n",
        "strategy = tf.distribute.TPUStrategy(resolver)"
      ],
      "execution_count": null,
      "outputs": [
        {
          "output_type": "stream",
          "text": [
            "INFO:tensorflow:Initializing the TPU system: grpc://10.57.227.186:8470\n"
          ],
          "name": "stdout"
        },
        {
          "output_type": "stream",
          "text": [
            "INFO:tensorflow:Initializing the TPU system: grpc://10.57.227.186:8470\n"
          ],
          "name": "stderr"
        },
        {
          "output_type": "stream",
          "text": [
            "INFO:tensorflow:Clearing out eager caches\n"
          ],
          "name": "stdout"
        },
        {
          "output_type": "stream",
          "text": [
            "INFO:tensorflow:Clearing out eager caches\n"
          ],
          "name": "stderr"
        },
        {
          "output_type": "stream",
          "text": [
            "INFO:tensorflow:Finished initializing TPU system.\n"
          ],
          "name": "stdout"
        },
        {
          "output_type": "stream",
          "text": [
            "INFO:tensorflow:Finished initializing TPU system.\n"
          ],
          "name": "stderr"
        },
        {
          "output_type": "stream",
          "text": [
            "All devices:  [LogicalDevice(name='/job:worker/replica:0/task:0/device:TPU:7', device_type='TPU'), LogicalDevice(name='/job:worker/replica:0/task:0/device:TPU:6', device_type='TPU'), LogicalDevice(name='/job:worker/replica:0/task:0/device:TPU:5', device_type='TPU'), LogicalDevice(name='/job:worker/replica:0/task:0/device:TPU:4', device_type='TPU'), LogicalDevice(name='/job:worker/replica:0/task:0/device:TPU:3', device_type='TPU'), LogicalDevice(name='/job:worker/replica:0/task:0/device:TPU:0', device_type='TPU'), LogicalDevice(name='/job:worker/replica:0/task:0/device:TPU:1', device_type='TPU'), LogicalDevice(name='/job:worker/replica:0/task:0/device:TPU:2', device_type='TPU')]\n",
            "INFO:tensorflow:Found TPU system:\n"
          ],
          "name": "stdout"
        },
        {
          "output_type": "stream",
          "text": [
            "INFO:tensorflow:Found TPU system:\n"
          ],
          "name": "stderr"
        },
        {
          "output_type": "stream",
          "text": [
            "INFO:tensorflow:*** Num TPU Cores: 8\n"
          ],
          "name": "stdout"
        },
        {
          "output_type": "stream",
          "text": [
            "INFO:tensorflow:*** Num TPU Cores: 8\n"
          ],
          "name": "stderr"
        },
        {
          "output_type": "stream",
          "text": [
            "INFO:tensorflow:*** Num TPU Workers: 1\n"
          ],
          "name": "stdout"
        },
        {
          "output_type": "stream",
          "text": [
            "INFO:tensorflow:*** Num TPU Workers: 1\n"
          ],
          "name": "stderr"
        },
        {
          "output_type": "stream",
          "text": [
            "INFO:tensorflow:*** Num TPU Cores Per Worker: 8\n"
          ],
          "name": "stdout"
        },
        {
          "output_type": "stream",
          "text": [
            "INFO:tensorflow:*** Num TPU Cores Per Worker: 8\n"
          ],
          "name": "stderr"
        },
        {
          "output_type": "stream",
          "text": [
            "INFO:tensorflow:*** Available Device: _DeviceAttributes(/job:localhost/replica:0/task:0/device:CPU:0, CPU, 0, 0)\n"
          ],
          "name": "stdout"
        },
        {
          "output_type": "stream",
          "text": [
            "INFO:tensorflow:*** Available Device: _DeviceAttributes(/job:localhost/replica:0/task:0/device:CPU:0, CPU, 0, 0)\n"
          ],
          "name": "stderr"
        },
        {
          "output_type": "stream",
          "text": [
            "INFO:tensorflow:*** Available Device: _DeviceAttributes(/job:worker/replica:0/task:0/device:CPU:0, CPU, 0, 0)\n"
          ],
          "name": "stdout"
        },
        {
          "output_type": "stream",
          "text": [
            "INFO:tensorflow:*** Available Device: _DeviceAttributes(/job:worker/replica:0/task:0/device:CPU:0, CPU, 0, 0)\n"
          ],
          "name": "stderr"
        },
        {
          "output_type": "stream",
          "text": [
            "INFO:tensorflow:*** Available Device: _DeviceAttributes(/job:worker/replica:0/task:0/device:TPU:0, TPU, 0, 0)\n"
          ],
          "name": "stdout"
        },
        {
          "output_type": "stream",
          "text": [
            "INFO:tensorflow:*** Available Device: _DeviceAttributes(/job:worker/replica:0/task:0/device:TPU:0, TPU, 0, 0)\n"
          ],
          "name": "stderr"
        },
        {
          "output_type": "stream",
          "text": [
            "INFO:tensorflow:*** Available Device: _DeviceAttributes(/job:worker/replica:0/task:0/device:TPU:1, TPU, 0, 0)\n"
          ],
          "name": "stdout"
        },
        {
          "output_type": "stream",
          "text": [
            "INFO:tensorflow:*** Available Device: _DeviceAttributes(/job:worker/replica:0/task:0/device:TPU:1, TPU, 0, 0)\n"
          ],
          "name": "stderr"
        },
        {
          "output_type": "stream",
          "text": [
            "INFO:tensorflow:*** Available Device: _DeviceAttributes(/job:worker/replica:0/task:0/device:TPU:2, TPU, 0, 0)\n"
          ],
          "name": "stdout"
        },
        {
          "output_type": "stream",
          "text": [
            "INFO:tensorflow:*** Available Device: _DeviceAttributes(/job:worker/replica:0/task:0/device:TPU:2, TPU, 0, 0)\n"
          ],
          "name": "stderr"
        },
        {
          "output_type": "stream",
          "text": [
            "INFO:tensorflow:*** Available Device: _DeviceAttributes(/job:worker/replica:0/task:0/device:TPU:3, TPU, 0, 0)\n"
          ],
          "name": "stdout"
        },
        {
          "output_type": "stream",
          "text": [
            "INFO:tensorflow:*** Available Device: _DeviceAttributes(/job:worker/replica:0/task:0/device:TPU:3, TPU, 0, 0)\n"
          ],
          "name": "stderr"
        },
        {
          "output_type": "stream",
          "text": [
            "INFO:tensorflow:*** Available Device: _DeviceAttributes(/job:worker/replica:0/task:0/device:TPU:4, TPU, 0, 0)\n"
          ],
          "name": "stdout"
        },
        {
          "output_type": "stream",
          "text": [
            "INFO:tensorflow:*** Available Device: _DeviceAttributes(/job:worker/replica:0/task:0/device:TPU:4, TPU, 0, 0)\n"
          ],
          "name": "stderr"
        },
        {
          "output_type": "stream",
          "text": [
            "INFO:tensorflow:*** Available Device: _DeviceAttributes(/job:worker/replica:0/task:0/device:TPU:5, TPU, 0, 0)\n"
          ],
          "name": "stdout"
        },
        {
          "output_type": "stream",
          "text": [
            "INFO:tensorflow:*** Available Device: _DeviceAttributes(/job:worker/replica:0/task:0/device:TPU:5, TPU, 0, 0)\n"
          ],
          "name": "stderr"
        },
        {
          "output_type": "stream",
          "text": [
            "INFO:tensorflow:*** Available Device: _DeviceAttributes(/job:worker/replica:0/task:0/device:TPU:6, TPU, 0, 0)\n"
          ],
          "name": "stdout"
        },
        {
          "output_type": "stream",
          "text": [
            "INFO:tensorflow:*** Available Device: _DeviceAttributes(/job:worker/replica:0/task:0/device:TPU:6, TPU, 0, 0)\n"
          ],
          "name": "stderr"
        },
        {
          "output_type": "stream",
          "text": [
            "INFO:tensorflow:*** Available Device: _DeviceAttributes(/job:worker/replica:0/task:0/device:TPU:7, TPU, 0, 0)\n"
          ],
          "name": "stdout"
        },
        {
          "output_type": "stream",
          "text": [
            "INFO:tensorflow:*** Available Device: _DeviceAttributes(/job:worker/replica:0/task:0/device:TPU:7, TPU, 0, 0)\n"
          ],
          "name": "stderr"
        },
        {
          "output_type": "stream",
          "text": [
            "INFO:tensorflow:*** Available Device: _DeviceAttributes(/job:worker/replica:0/task:0/device:TPU_SYSTEM:0, TPU_SYSTEM, 0, 0)\n"
          ],
          "name": "stdout"
        },
        {
          "output_type": "stream",
          "text": [
            "INFO:tensorflow:*** Available Device: _DeviceAttributes(/job:worker/replica:0/task:0/device:TPU_SYSTEM:0, TPU_SYSTEM, 0, 0)\n"
          ],
          "name": "stderr"
        },
        {
          "output_type": "stream",
          "text": [
            "INFO:tensorflow:*** Available Device: _DeviceAttributes(/job:worker/replica:0/task:0/device:XLA_CPU:0, XLA_CPU, 0, 0)\n"
          ],
          "name": "stdout"
        },
        {
          "output_type": "stream",
          "text": [
            "INFO:tensorflow:*** Available Device: _DeviceAttributes(/job:worker/replica:0/task:0/device:XLA_CPU:0, XLA_CPU, 0, 0)\n"
          ],
          "name": "stderr"
        }
      ]
    },
    {
      "cell_type": "markdown",
      "metadata": {
        "id": "lspXVReNg55U"
      },
      "source": [
        "####**Data Files**\n",
        "Connect to Google Bucket and verify TFRecord file entries look OK. "
      ]
    },
    {
      "cell_type": "code",
      "metadata": {
        "id": "eA7CUODihRQ3"
      },
      "source": [
        "def read_one_whole_rec(data):\n",
        "  tfrecord_format = (\n",
        "        {\n",
        "            \"x\": tf.io.FixedLenFeature([], tf.string),\n",
        "            \"y\": tf.io.FixedLenFeature([], tf.float32)\n",
        "        }\n",
        "   )\n",
        "  \n",
        "  data = tf.io.parse_example(data, tfrecord_format)\n",
        "  img = tf.io.decode_raw(data[\"x\"], tf.uint8)\n",
        "  #expecting this original imgage size \n",
        "  img = tf.reshape(img, [366,366,1])\n",
        "  lab = data[\"y\"]\n",
        "  return img, lab\n",
        "\n",
        "# Train set and validation set were decided outside of this notebook.  \n",
        "# Data was split by storm instead of a random split to keep a storms' images together.  \n",
        "train_images = tf.data.TFRecordDataset(\n",
        "    \"gs://eye-speed/data/tfrecs/train.tfrecords\"\n",
        ")\n",
        "ds_train = train_images.map(read_one_whole_rec)\n",
        "\n",
        "val_images = tf.data.TFRecordDataset(\n",
        "    \"gs://eye-speed/data/tfrecs/val.tfrecords\"\n",
        ")\n",
        "ds_val = val_images.map(read_one_whole_rec)\n"
      ],
      "execution_count": null,
      "outputs": []
    },
    {
      "cell_type": "code",
      "metadata": {
        "colab": {
          "base_uri": "https://localhost:8080/",
          "height": 400
        },
        "id": "rg8p6khyhrcZ",
        "outputId": "94d44a25-2a6e-4cb0-d910-35b13d200850"
      },
      "source": [
        "from PIL import Image \n",
        "\n",
        "for example in ds_train.take(1):\n",
        "  im, lb = example\n",
        "  print(\"Windspeed is\", str(lb.numpy())) \n",
        "  display(Image.fromarray(tf.squeeze(im).numpy())) \n"
      ],
      "execution_count": null,
      "outputs": [
        {
          "output_type": "stream",
          "text": [
            "Windspeed is 50.0\n"
          ],
          "name": "stdout"
        },
        {
          "output_type": "display_data",
          "data": {
            "image/png": "[encoded data removed]",
            "text/plain": [
              "<PIL.Image.Image image mode=L size=366x366 at 0x7F2E740B3CF8>"
            ]
          },
          "metadata": {
            "tags": []
          }
        }
      ]
    },
    {
      "cell_type": "code",
      "metadata": {
        "colab": {
          "base_uri": "https://localhost:8080/",
          "height": 400
        },
        "id": "tjBQR5l5iBch",
        "outputId": "7a12a927-d25e-46d1-c22c-42c4cb48f712"
      },
      "source": [
        "for example in ds_val.take(1):\n",
        "  im, lb = example\n",
        "  print(\"Windspeed is\", str(lb.numpy())) \n",
        "  display(Image.fromarray(tf.squeeze(im).numpy())) \n"
      ],
      "execution_count": null,
      "outputs": [
        {
          "output_type": "stream",
          "text": [
            "Windspeed is 15.0\n"
          ],
          "name": "stdout"
        },
        {
          "output_type": "display_data",
          "data": {
            "image/png": "[encoded data removed]",
            "text/plain": [
              "<PIL.Image.Image image mode=L size=366x366 at 0x7F2E73FB9710>"
            ]
          },
          "metadata": {
            "tags": []
          }
        }
      ]
    },
    {
      "cell_type": "markdown",
      "metadata": {
        "id": "8sTfMdeYkyXk"
      },
      "source": [
        "####**Calculations and Batching**\n",
        "Determine the number of records to send to the model per batch (batch size) and the number of batches for each epoch (steps per epoch)"
      ]
    },
    {
      "cell_type": "code",
      "metadata": {
        "colab": {
          "base_uri": "https://localhost:8080/"
        },
        "id": "FkLBlJlblDyK",
        "outputId": "fa4d994b-2a4d-4957-df8e-7c407a72c200"
      },
      "source": [
        "#to improve streaming performance\n",
        "AUTO = tf.data.experimental.AUTOTUNE\n",
        "\n",
        "TOTAL_RECORDS = ds_train.reduce(np.int64(0), lambda x, _: x + 1)\n",
        "BATCH_SIZE_PER_REPLICA = 24\n",
        "GLOBAL_BATCH_SIZE = BATCH_SIZE_PER_REPLICA * strategy.num_replicas_in_sync\n",
        "STEPS_PER_EPOCH = (TOTAL_RECORDS // GLOBAL_BATCH_SIZE).numpy()\n",
        "print(\"Steps per epoch\", str(STEPS_PER_EPOCH))"
      ],
      "execution_count": null,
      "outputs": [
        {
          "output_type": "stream",
          "text": [
            "Steps per epoch 295\n"
          ],
          "name": "stdout"
        }
      ]
    },
    {
      "cell_type": "code",
      "metadata": {
        "colab": {
          "base_uri": "https://localhost:8080/"
        },
        "id": "4DThuKWhoShr",
        "outputId": "b184ff19-086a-4e7e-de5d-daab3021f629"
      },
      "source": [
        "# to ensure all batches are the same size, use drop_remainder=True\n",
        "batched_ds_train = ds_train.batch(GLOBAL_BATCH_SIZE, drop_remainder=True).prefetch(AUTO)\n",
        "print(batched_ds_train) \n",
        "\n",
        "batched_ds_val = ds_val.batch(GLOBAL_BATCH_SIZE, drop_remainder=True).prefetch(AUTO)\n",
        "print(batched_ds_val)"
      ],
      "execution_count": null,
      "outputs": [
        {
          "output_type": "stream",
          "text": [
            "<PrefetchDataset shapes: ((192, 366, 366, 1), (192,)), types: (tf.uint8, tf.float32)>\n",
            "<PrefetchDataset shapes: ((192, 366, 366, 1), (192,)), types: (tf.uint8, tf.float32)>\n"
          ],
          "name": "stdout"
        }
      ]
    },
    {
      "cell_type": "markdown",
      "metadata": {
        "id": "JCb-TzR0gm_G"
      },
      "source": [
        "####Model\n",
        "Create model, associate it with the TPU strategy, then fit.  "
      ]
    },
    {
      "cell_type": "code",
      "metadata": {
        "id": "Ce_dhciKpT4D"
      },
      "source": [
        "IMG_SIZE = 366\n",
        "EPOCHS = 100\n",
        "\n",
        "def create_compile_model_with_bn_dropout_366():\n",
        "  model = Sequential(\n",
        "      [\n",
        "        #seeing OK performance with fullsize images,\n",
        "        #but preprocessing is an option if needed to make training faster. \n",
        "        #preprocessing.Resizing(IMG_SIZE, IMG_SIZE, interpolation=\"nearest\"),\n",
        "        preprocessing.Rescaling(1./255)\n",
        "      ]\n",
        "  )\n",
        "  model.add(Conv2D(32, (7,7), padding='same', activation='selu', input_shape=(IMG_SIZE, IMG_SIZE, 1)))\n",
        "  model.add(BatchNormalization())\n",
        "  model.add(Conv2D(64, (3,3), padding='same', activation='selu'))\n",
        "  model.add(MaxPooling2D(pool_size=(2,2)))\n",
        "  model.add(BatchNormalization())\n",
        "  model.add(Conv2D(64, (3,3), padding='same', activation='selu'))\n",
        "  model.add(BatchNormalization())\n",
        "  model.add(Conv2D(64, (3,3), padding='same', activation='selu'))\n",
        "  model.add(MaxPooling2D(pool_size=(2,2)))\n",
        "  model.add(BatchNormalization())\n",
        "  model.add(Conv2D(64, (3,3), padding='same', activation='selu'))\n",
        "  model.add(BatchNormalization())\n",
        "  model.add(Conv2D(32, (3,3), padding='same', activation='selu'))\n",
        "  model.add(MaxPooling2D(pool_size=(2,2)))\n",
        "  model.add(BatchNormalization())\n",
        "  model.add(Conv2D(32, (3,3), padding='same', activation='selu'))\n",
        "  model.add(BatchNormalization())\n",
        "  model.add(Conv2D(32, (3,3), padding='same', activation='selu'))\n",
        "  model.add(BatchNormalization())\n",
        "  model.add(MaxPooling2D(pool_size=(2,2)))\n",
        "  model.add(Dropout(0.1))\n",
        "  model.add(BatchNormalization())\n",
        "  model.add(Conv2D(32, (3,3), padding='same', activation='selu'))\n",
        "  model.add(BatchNormalization())\n",
        "  model.add(Conv2D(32, (3,3), padding='same', activation='selu'))\n",
        "  model.add(MaxPooling2D(pool_size=(2,2)))\n",
        "  model.add(Dropout(0.1))\n",
        "  model.add(BatchNormalization())\n",
        "  model.add(Conv2D(32, (3,3), padding='same', activation='selu'))\n",
        "  model.add(Flatten())\n",
        "  model.add(Dropout(0.1))\n",
        "  model.add(BatchNormalization())\n",
        "  model.add(Dense(32, activation='selu'))\n",
        "  model.add(Dense(1, activation='linear'))\n",
        "\n",
        "  model.compile(loss='mse', optimizer='adam', metrics=['mse', 'mae', 'mape']) \n",
        "  return model"
      ],
      "execution_count": null,
      "outputs": []
    },
    {
      "cell_type": "code",
      "metadata": {
        "colab": {
          "base_uri": "https://localhost:8080/"
        },
        "id": "2uDLBzX3ptwc",
        "outputId": "304de236-baf0-4031-c1d7-034d4a668aed"
      },
      "source": [
        "#associate with TPU strategy\n",
        "with strategy.scope():\n",
        "  model = create_compile_model_with_bn_dropout_366()\n",
        "\n",
        "#setup to save the best model because the last is not necessarily the best. \n",
        "d = datetime.datetime.now().strftime(\"%Y-%m-%d %H:%M:%S\")\n",
        "checkpoint_filename = '/content/drive/MyDrive/TeamHurricane/models/best-' + d +'.h5'\n",
        "checkpoint = ModelCheckpoint(checkpoint_filename, monitor='val_mse', verbose=1, save_best_only=True, mode='min') \n",
        "\n",
        "#extra logging to know when fitting starts \n",
        "print(datetime.datetime.strptime(d, \"%Y-%m-%d %H:%M:%S\").strftime(\"%Y-%m-%d %I:%M:%S %p\"))\n",
        "\n",
        "history = model.fit(batched_ds_train.repeat(), epochs=EPOCHS, steps_per_epoch=STEPS_PER_EPOCH, verbose=1, \\\n",
        "                    validation_data=batched_ds_val, callbacks=[checkpoint])\n",
        "\n",
        "final_filename = '/content/drive/MyDrive/TeamHurricane/models/final-' + d + '.h5'\n",
        "model.save(final_filename)\n",
        "print(\"just saved model\" )"
      ],
      "execution_count": null,
      "outputs": [
        {
          "output_type": "stream",
          "text": [
            "2021-02-19 08:07:49 PM\n",
            "Epoch 1/100\n",
            "295/295 [==============================] - 144s 434ms/step - loss: 965.9577 - mse: 965.9577 - mae: 23.0601 - mape: 49.1337 - val_loss: 466.4637 - val_mse: 466.4637 - val_mae: 17.5974 - val_mape: 43.7568\n",
            "\n",
            "Epoch 00001: val_mse improved from inf to 466.46371, saving model to /content/drive/MyDrive/TeamHurricane/models/best-2021-02-19 20:07:49.h5\n",
            "Epoch 2/100\n",
            "295/295 [==============================] - 90s 305ms/step - loss: 184.4748 - mse: 184.4748 - mae: 10.3451 - mape: 23.1781 - val_loss: 145.6429 - val_mse: 145.6429 - val_mae: 9.1601 - val_mape: 21.1889\n",
            "\n",
            "Epoch 00002: val_mse improved from 466.46371 to 145.64290, saving model to /content/drive/MyDrive/TeamHurricane/models/best-2021-02-19 20:07:49.h5\n",
            "Epoch 3/100\n",
            "295/295 [==============================] - 90s 304ms/step - loss: 142.7137 - mse: 142.7137 - mae: 9.0990 - mape: 20.4291 - val_loss: 128.2822 - val_mse: 128.2822 - val_mae: 8.5285 - val_mape: 20.5153\n",
            "\n",
            "Epoch 00003: val_mse improved from 145.64290 to 128.28223, saving model to /content/drive/MyDrive/TeamHurricane/models/best-2021-02-19 20:07:49.h5\n",
            "Epoch 4/100\n",
            "295/295 [==============================] - 89s 303ms/step - loss: 121.8789 - mse: 121.8789 - mae: 8.4112 - mape: 18.8695 - val_loss: 118.2469 - val_mse: 118.2469 - val_mae: 8.2104 - val_mape: 19.6334\n",
            "\n",
            "Epoch 00004: val_mse improved from 128.28223 to 118.24695, saving model to /content/drive/MyDrive/TeamHurricane/models/best-2021-02-19 20:07:49.h5\n",
            "Epoch 5/100\n",
            "295/295 [==============================] - 90s 304ms/step - loss: 108.0493 - mse: 108.0493 - mae: 7.9345 - mape: 17.7607 - val_loss: 135.3226 - val_mse: 135.3226 - val_mae: 8.6939 - val_mape: 19.9935\n",
            "\n",
            "Epoch 00005: val_mse did not improve from 118.24695\n",
            "Epoch 6/100\n",
            "295/295 [==============================] - 89s 303ms/step - loss: 96.4601 - mse: 96.4601 - mae: 7.5054 - mape: 16.8763 - val_loss: 129.0140 - val_mse: 129.0140 - val_mae: 8.4842 - val_mape: 19.7862\n",
            "\n",
            "Epoch 00006: val_mse did not improve from 118.24695\n",
            "Epoch 7/100\n",
            "295/295 [==============================] - 90s 304ms/step - loss: 87.0018 - mse: 87.0018 - mae: 7.1455 - mape: 16.0548 - val_loss: 148.0100 - val_mse: 148.0100 - val_mae: 9.1435 - val_mape: 20.8677\n",
            "\n",
            "Epoch 00007: val_mse did not improve from 118.24695\n",
            "Epoch 8/100\n",
            "295/295 [==============================] - 90s 304ms/step - loss: 80.4811 - mse: 80.4811 - mae: 6.8643 - mape: 15.4320 - val_loss: 116.2254 - val_mse: 116.2254 - val_mae: 8.1271 - val_mape: 19.2859\n",
            "\n",
            "Epoch 00008: val_mse improved from 118.24695 to 116.22540, saving model to /content/drive/MyDrive/TeamHurricane/models/best-2021-02-19 20:07:49.h5\n",
            "Epoch 9/100\n",
            "295/295 [==============================] - 90s 304ms/step - loss: 73.9270 - mse: 73.9270 - mae: 6.5863 - mape: 14.8422 - val_loss: 105.5149 - val_mse: 105.5149 - val_mae: 7.7013 - val_mape: 18.2750\n",
            "\n",
            "Epoch 00009: val_mse improved from 116.22540 to 105.51492, saving model to /content/drive/MyDrive/TeamHurricane/models/best-2021-02-19 20:07:49.h5\n",
            "Epoch 10/100\n",
            "295/295 [==============================] - 90s 304ms/step - loss: 68.2898 - mse: 68.2898 - mae: 6.3415 - mape: 14.2774 - val_loss: 141.0480 - val_mse: 141.0480 - val_mae: 9.1845 - val_mape: 22.0916\n",
            "\n",
            "Epoch 00010: val_mse did not improve from 105.51492\n",
            "Epoch 11/100\n",
            "295/295 [==============================] - 90s 304ms/step - loss: 63.3579 - mse: 63.3579 - mae: 6.1112 - mape: 13.8181 - val_loss: 121.4265 - val_mse: 121.4265 - val_mae: 8.3032 - val_mape: 19.9365\n",
            "\n",
            "Epoch 00011: val_mse did not improve from 105.51492\n",
            "Epoch 12/100\n",
            "295/295 [==============================] - 89s 303ms/step - loss: 60.5182 - mse: 60.5182 - mae: 5.9766 - mape: 13.5310 - val_loss: 121.8492 - val_mse: 121.8492 - val_mae: 8.1484 - val_mape: 18.7607\n",
            "\n",
            "Epoch 00012: val_mse did not improve from 105.51492\n",
            "Epoch 13/100\n",
            "295/295 [==============================] - 90s 304ms/step - loss: 57.6536 - mse: 57.6536 - mae: 5.8377 - mape: 13.2551 - val_loss: 120.4133 - val_mse: 120.4133 - val_mae: 8.4038 - val_mape: 20.3683\n",
            "\n",
            "Epoch 00013: val_mse did not improve from 105.51492\n",
            "Epoch 14/100\n",
            "295/295 [==============================] - 90s 304ms/step - loss: 56.4601 - mse: 56.4601 - mae: 5.7651 - mape: 13.0351 - val_loss: 127.7435 - val_mse: 127.7435 - val_mae: 8.6286 - val_mape: 20.6197\n",
            "\n",
            "Epoch 00014: val_mse did not improve from 105.51492\n",
            "Epoch 15/100\n",
            "295/295 [==============================] - 90s 304ms/step - loss: 51.7168 - mse: 51.7168 - mae: 5.5287 - mape: 12.5064 - val_loss: 140.9926 - val_mse: 140.9926 - val_mae: 8.9829 - val_mape: 21.3719\n",
            "\n",
            "Epoch 00015: val_mse did not improve from 105.51492\n",
            "Epoch 16/100\n",
            "295/295 [==============================] - 89s 303ms/step - loss: 51.4434 - mse: 51.4434 - mae: 5.5202 - mape: 12.5193 - val_loss: 161.9867 - val_mse: 161.9867 - val_mae: 9.6080 - val_mape: 22.7236\n",
            "\n",
            "Epoch 00016: val_mse did not improve from 105.51492\n",
            "Epoch 17/100\n",
            "295/295 [==============================] - 90s 305ms/step - loss: 52.9105 - mse: 52.9105 - mae: 5.6198 - mape: 12.7177 - val_loss: 118.7853 - val_mse: 118.7853 - val_mae: 8.2183 - val_mape: 19.0920\n",
            "\n",
            "Epoch 00017: val_mse did not improve from 105.51492\n",
            "Epoch 18/100\n",
            "295/295 [==============================] - 90s 304ms/step - loss: 48.9512 - mse: 48.9512 - mae: 5.3803 - mape: 12.1544 - val_loss: 119.6397 - val_mse: 119.6397 - val_mae: 8.1675 - val_mape: 18.7031\n",
            "\n",
            "Epoch 00018: val_mse did not improve from 105.51492\n",
            "Epoch 19/100\n",
            "295/295 [==============================] - 90s 304ms/step - loss: 44.0064 - mse: 44.0064 - mae: 5.1012 - mape: 11.5298 - val_loss: 123.9431 - val_mse: 123.9431 - val_mae: 8.4703 - val_mape: 20.1413\n",
            "\n",
            "Epoch 00019: val_mse did not improve from 105.51492\n",
            "Epoch 20/100\n",
            "295/295 [==============================] - 89s 303ms/step - loss: 41.4172 - mse: 41.4172 - mae: 4.9574 - mape: 11.2141 - val_loss: 137.7346 - val_mse: 137.7346 - val_mae: 8.8314 - val_mape: 20.5407\n",
            "\n",
            "Epoch 00020: val_mse did not improve from 105.51492\n",
            "Epoch 21/100\n",
            "295/295 [==============================] - 90s 304ms/step - loss: 44.4626 - mse: 44.4626 - mae: 5.1109 - mape: 11.4989 - val_loss: 135.9256 - val_mse: 135.9256 - val_mae: 8.7099 - val_mape: 20.4504\n",
            "\n",
            "Epoch 00021: val_mse did not improve from 105.51492\n",
            "Epoch 22/100\n",
            "295/295 [==============================] - 90s 304ms/step - loss: 56.3745 - mse: 56.3745 - mae: 5.7124 - mape: 12.6056 - val_loss: 137.0096 - val_mse: 137.0096 - val_mae: 8.7496 - val_mape: 19.9161\n",
            "\n",
            "Epoch 00022: val_mse did not improve from 105.51492\n",
            "Epoch 23/100\n",
            "295/295 [==============================] - 90s 304ms/step - loss: 56.8880 - mse: 56.8880 - mae: 5.7061 - mape: 12.4476 - val_loss: 120.1998 - val_mse: 120.1998 - val_mae: 8.3374 - val_mape: 19.7517\n",
            "\n",
            "Epoch 00023: val_mse did not improve from 105.51492\n",
            "Epoch 24/100\n",
            "295/295 [==============================] - 90s 306ms/step - loss: 42.5813 - mse: 42.5813 - mae: 4.9831 - mape: 11.0965 - val_loss: 129.0289 - val_mse: 129.0289 - val_mae: 8.6726 - val_mape: 20.6769\n",
            "\n",
            "Epoch 00024: val_mse did not improve from 105.51492\n",
            "Epoch 25/100\n",
            "295/295 [==============================] - 90s 305ms/step - loss: 37.4231 - mse: 37.4231 - mae: 4.6992 - mape: 10.5589 - val_loss: 118.7216 - val_mse: 118.7216 - val_mae: 8.2917 - val_mape: 19.7195\n",
            "\n",
            "Epoch 00025: val_mse did not improve from 105.51492\n",
            "Epoch 26/100\n",
            "295/295 [==============================] - 90s 305ms/step - loss: 34.1684 - mse: 34.1684 - mae: 4.4963 - mape: 10.1125 - val_loss: 120.8392 - val_mse: 120.8392 - val_mae: 8.4415 - val_mape: 20.5138\n",
            "\n",
            "Epoch 00026: val_mse did not improve from 105.51492\n",
            "Epoch 27/100\n",
            "295/295 [==============================] - 90s 304ms/step - loss: 32.1114 - mse: 32.1114 - mae: 4.3787 - mape: 9.9379 - val_loss: 130.3882 - val_mse: 130.3882 - val_mae: 8.7511 - val_mape: 20.6545\n",
            "\n",
            "Epoch 00027: val_mse did not improve from 105.51492\n",
            "Epoch 28/100\n",
            "295/295 [==============================] - 90s 304ms/step - loss: 30.9770 - mse: 30.9770 - mae: 4.2968 - mape: 9.6869 - val_loss: 124.4082 - val_mse: 124.4082 - val_mae: 8.4770 - val_mape: 20.0003\n",
            "\n",
            "Epoch 00028: val_mse did not improve from 105.51492\n",
            "Epoch 29/100\n",
            "295/295 [==============================] - 90s 304ms/step - loss: 29.8880 - mse: 29.8880 - mae: 4.2327 - mape: 9.5793 - val_loss: 129.5917 - val_mse: 129.5917 - val_mae: 8.7118 - val_mape: 21.3224\n",
            "\n",
            "Epoch 00029: val_mse did not improve from 105.51492\n",
            "Epoch 30/100\n",
            "295/295 [==============================] - 90s 304ms/step - loss: 29.1708 - mse: 29.1708 - mae: 4.1888 - mape: 9.4741 - val_loss: 154.4309 - val_mse: 154.4309 - val_mae: 9.3246 - val_mape: 21.4949\n",
            "\n",
            "Epoch 00030: val_mse did not improve from 105.51492\n",
            "Epoch 31/100\n",
            "295/295 [==============================] - 90s 304ms/step - loss: 29.4573 - mse: 29.4573 - mae: 4.1920 - mape: 9.4569 - val_loss: 123.2071 - val_mse: 123.2071 - val_mae: 8.4214 - val_mape: 20.3353\n",
            "\n",
            "Epoch 00031: val_mse did not improve from 105.51492\n",
            "Epoch 32/100\n",
            "295/295 [==============================] - 90s 305ms/step - loss: 28.1917 - mse: 28.1917 - mae: 4.1075 - mape: 9.2755 - val_loss: 128.0162 - val_mse: 128.0162 - val_mae: 8.6491 - val_mape: 20.8076\n",
            "\n",
            "Epoch 00032: val_mse did not improve from 105.51492\n",
            "Epoch 33/100\n",
            "295/295 [==============================] - 90s 305ms/step - loss: 27.4329 - mse: 27.4329 - mae: 4.0534 - mape: 9.1875 - val_loss: 122.1158 - val_mse: 122.1158 - val_mae: 8.4061 - val_mape: 20.2551\n",
            "\n",
            "Epoch 00033: val_mse did not improve from 105.51492\n",
            "Epoch 34/100\n",
            "295/295 [==============================] - 91s 308ms/step - loss: 26.8802 - mse: 26.8802 - mae: 4.0058 - mape: 9.0430 - val_loss: 112.4102 - val_mse: 112.4102 - val_mae: 8.0222 - val_mape: 19.0412\n",
            "\n",
            "Epoch 00034: val_mse did not improve from 105.51492\n",
            "Epoch 35/100\n",
            "295/295 [==============================] - 92s 311ms/step - loss: 26.3662 - mse: 26.3662 - mae: 3.9706 - mape: 8.9627 - val_loss: 129.0659 - val_mse: 129.0659 - val_mae: 8.7231 - val_mape: 21.2829\n",
            "\n",
            "Epoch 00035: val_mse did not improve from 105.51492\n",
            "Epoch 36/100\n",
            "295/295 [==============================] - 90s 305ms/step - loss: 25.3611 - mse: 25.3611 - mae: 3.8939 - mape: 8.7883 - val_loss: 133.0656 - val_mse: 133.0656 - val_mae: 8.7954 - val_mape: 21.3771\n",
            "\n",
            "Epoch 00036: val_mse did not improve from 105.51492\n",
            "Epoch 37/100\n",
            "295/295 [==============================] - 90s 305ms/step - loss: 26.1654 - mse: 26.1654 - mae: 3.9676 - mape: 8.9745 - val_loss: 149.1004 - val_mse: 149.1004 - val_mae: 9.3351 - val_mape: 22.6676\n",
            "\n",
            "Epoch 00037: val_mse did not improve from 105.51492\n",
            "Epoch 38/100\n",
            "295/295 [==============================] - 90s 305ms/step - loss: 28.8115 - mse: 28.8115 - mae: 4.1775 - mape: 9.4724 - val_loss: 117.0374 - val_mse: 117.0374 - val_mae: 8.0750 - val_mape: 18.8725\n",
            "\n",
            "Epoch 00038: val_mse did not improve from 105.51492\n",
            "Epoch 39/100\n",
            "295/295 [==============================] - 90s 304ms/step - loss: 26.7764 - mse: 26.7764 - mae: 4.0125 - mape: 9.0813 - val_loss: 133.9477 - val_mse: 133.9477 - val_mae: 8.6891 - val_mape: 20.1172\n",
            "\n",
            "Epoch 00039: val_mse did not improve from 105.51492\n",
            "Epoch 40/100\n",
            "295/295 [==============================] - 90s 307ms/step - loss: 24.3038 - mse: 24.3038 - mae: 3.8200 - mape: 8.6551 - val_loss: 144.7501 - val_mse: 144.7501 - val_mae: 8.9664 - val_mape: 20.2548\n",
            "\n",
            "Epoch 00040: val_mse did not improve from 105.51492\n",
            "Epoch 41/100\n",
            "295/295 [==============================] - 90s 305ms/step - loss: 24.1004 - mse: 24.1004 - mae: 3.8010 - mape: 8.5695 - val_loss: 124.0120 - val_mse: 124.0120 - val_mae: 8.2885 - val_mape: 18.7968\n",
            "\n",
            "Epoch 00041: val_mse did not improve from 105.51492\n",
            "Epoch 42/100\n",
            "295/295 [==============================] - 90s 305ms/step - loss: 23.4194 - mse: 23.4194 - mae: 3.7303 - mape: 8.4122 - val_loss: 153.0329 - val_mse: 153.0329 - val_mae: 9.0025 - val_mape: 19.3113\n",
            "\n",
            "Epoch 00042: val_mse did not improve from 105.51492\n",
            "Epoch 43/100\n",
            "295/295 [==============================] - 90s 305ms/step - loss: 25.6755 - mse: 25.6755 - mae: 3.8999 - mape: 8.7468 - val_loss: 247.6869 - val_mse: 247.6869 - val_mae: 11.3003 - val_mape: 23.4169\n",
            "\n",
            "Epoch 00043: val_mse did not improve from 105.51492\n",
            "Epoch 44/100\n",
            "295/295 [==============================] - 90s 305ms/step - loss: 34.2808 - mse: 34.2808 - mae: 4.4263 - mape: 9.5739 - val_loss: 157.9557 - val_mse: 157.9557 - val_mae: 9.2327 - val_mape: 20.4044\n",
            "\n",
            "Epoch 00044: val_mse did not improve from 105.51492\n",
            "Epoch 45/100\n",
            "295/295 [==============================] - 90s 305ms/step - loss: 28.0816 - mse: 28.0816 - mae: 4.0692 - mape: 9.0126 - val_loss: 131.0856 - val_mse: 131.0856 - val_mae: 8.5650 - val_mape: 19.6747\n",
            "\n",
            "Epoch 00045: val_mse did not improve from 105.51492\n",
            "Epoch 46/100\n",
            "295/295 [==============================] - 90s 304ms/step - loss: 23.8640 - mse: 23.8640 - mae: 3.7582 - mape: 8.4216 - val_loss: 161.3125 - val_mse: 161.3125 - val_mae: 9.2854 - val_mape: 20.3113\n",
            "\n",
            "Epoch 00046: val_mse did not improve from 105.51492\n",
            "Epoch 47/100\n",
            "295/295 [==============================] - 90s 306ms/step - loss: 21.7875 - mse: 21.7875 - mae: 3.6075 - mape: 8.1171 - val_loss: 145.9334 - val_mse: 145.9334 - val_mae: 8.8788 - val_mape: 19.7338\n",
            "\n",
            "Epoch 00047: val_mse did not improve from 105.51492\n",
            "Epoch 48/100\n",
            "295/295 [==============================] - 90s 305ms/step - loss: 21.3870 - mse: 21.3870 - mae: 3.5827 - mape: 8.0610 - val_loss: 118.5112 - val_mse: 118.5112 - val_mae: 8.2393 - val_mape: 19.4260\n",
            "\n",
            "Epoch 00048: val_mse did not improve from 105.51492\n",
            "Epoch 49/100\n",
            "295/295 [==============================] - 91s 307ms/step - loss: 21.7270 - mse: 21.7270 - mae: 3.6115 - mape: 8.0949 - val_loss: 122.2881 - val_mse: 122.2881 - val_mae: 8.2079 - val_mape: 18.4971\n",
            "\n",
            "Epoch 00049: val_mse did not improve from 105.51492\n",
            "Epoch 50/100\n",
            "295/295 [==============================] - 90s 306ms/step - loss: 20.9125 - mse: 20.9125 - mae: 3.5502 - mape: 8.0201 - val_loss: 118.5063 - val_mse: 118.5063 - val_mae: 8.2072 - val_mape: 19.0797\n",
            "\n",
            "Epoch 00050: val_mse did not improve from 105.51492\n",
            "Epoch 51/100\n",
            "295/295 [==============================] - 90s 306ms/step - loss: 19.9125 - mse: 19.9125 - mae: 3.4583 - mape: 7.8293 - val_loss: 109.0452 - val_mse: 109.0452 - val_mae: 7.8612 - val_mape: 18.5105\n",
            "\n",
            "Epoch 00051: val_mse did not improve from 105.51492\n",
            "Epoch 52/100\n",
            "295/295 [==============================] - 90s 306ms/step - loss: 19.4535 - mse: 19.4535 - mae: 3.4201 - mape: 7.7716 - val_loss: 120.4544 - val_mse: 120.4544 - val_mae: 8.2015 - val_mape: 18.8645\n",
            "\n",
            "Epoch 00052: val_mse did not improve from 105.51492\n",
            "Epoch 53/100\n",
            "295/295 [==============================] - 90s 306ms/step - loss: 19.0723 - mse: 19.0723 - mae: 3.3800 - mape: 7.6102 - val_loss: 120.7429 - val_mse: 120.7429 - val_mae: 8.2585 - val_mape: 19.3152\n",
            "\n",
            "Epoch 00053: val_mse did not improve from 105.51492\n",
            "Epoch 54/100\n",
            "295/295 [==============================] - 90s 307ms/step - loss: 19.0903 - mse: 19.0903 - mae: 3.3909 - mape: 7.6505 - val_loss: 110.8210 - val_mse: 110.8210 - val_mae: 7.8493 - val_mape: 18.0609\n",
            "\n",
            "Epoch 00054: val_mse did not improve from 105.51492\n",
            "Epoch 55/100\n",
            "295/295 [==============================] - 90s 306ms/step - loss: 18.4044 - mse: 18.4044 - mae: 3.3292 - mape: 7.5564 - val_loss: 109.9225 - val_mse: 109.9225 - val_mae: 7.8854 - val_mape: 18.4643\n",
            "\n",
            "Epoch 00055: val_mse did not improve from 105.51492\n",
            "Epoch 56/100\n",
            "295/295 [==============================] - 91s 307ms/step - loss: 18.3023 - mse: 18.3023 - mae: 3.3151 - mape: 7.5372 - val_loss: 121.0851 - val_mse: 121.0851 - val_mae: 8.2726 - val_mape: 19.1963\n",
            "\n",
            "Epoch 00056: val_mse did not improve from 105.51492\n",
            "Epoch 57/100\n",
            "295/295 [==============================] - 90s 306ms/step - loss: 18.1836 - mse: 18.1836 - mae: 3.3057 - mape: 7.4799 - val_loss: 120.4465 - val_mse: 120.4465 - val_mae: 8.2419 - val_mape: 19.2139\n",
            "\n",
            "Epoch 00057: val_mse did not improve from 105.51492\n",
            "Epoch 58/100\n",
            "295/295 [==============================] - 90s 305ms/step - loss: 17.4392 - mse: 17.4392 - mae: 3.2462 - mape: 7.3989 - val_loss: 122.9251 - val_mse: 122.9251 - val_mae: 8.2747 - val_mape: 19.0018\n",
            "\n",
            "Epoch 00058: val_mse did not improve from 105.51492\n",
            "Epoch 59/100\n",
            "295/295 [==============================] - 90s 307ms/step - loss: 17.6730 - mse: 17.6730 - mae: 3.2469 - mape: 7.3697 - val_loss: 119.0703 - val_mse: 119.0703 - val_mae: 8.1758 - val_mape: 18.8149\n",
            "\n",
            "Epoch 00059: val_mse did not improve from 105.51492\n",
            "Epoch 60/100\n",
            "295/295 [==============================] - 90s 306ms/step - loss: 16.6171 - mse: 16.6171 - mae: 3.1655 - mape: 7.2033 - val_loss: 121.4889 - val_mse: 121.4889 - val_mae: 8.1882 - val_mape: 18.5896\n",
            "\n",
            "Epoch 00060: val_mse did not improve from 105.51492\n",
            "Epoch 61/100\n",
            "295/295 [==============================] - 90s 306ms/step - loss: 17.0535 - mse: 17.0535 - mae: 3.2072 - mape: 7.2923 - val_loss: 110.5359 - val_mse: 110.5359 - val_mae: 7.9161 - val_mape: 18.4839\n",
            "\n",
            "Epoch 00061: val_mse did not improve from 105.51492\n",
            "Epoch 62/100\n",
            "295/295 [==============================] - 91s 307ms/step - loss: 16.3334 - mse: 16.3334 - mae: 3.1426 - mape: 7.1702 - val_loss: 112.4021 - val_mse: 112.4021 - val_mae: 7.9332 - val_mape: 18.4618\n",
            "\n",
            "Epoch 00062: val_mse did not improve from 105.51492\n",
            "Epoch 63/100\n",
            "295/295 [==============================] - 90s 306ms/step - loss: 16.1558 - mse: 16.1558 - mae: 3.1297 - mape: 7.1632 - val_loss: 112.3765 - val_mse: 112.3765 - val_mae: 7.9522 - val_mape: 18.4889\n",
            "\n",
            "Epoch 00063: val_mse did not improve from 105.51492\n",
            "Epoch 64/100\n",
            "295/295 [==============================] - 91s 309ms/step - loss: 15.8823 - mse: 15.8823 - mae: 3.1023 - mape: 7.1000 - val_loss: 108.2737 - val_mse: 108.2737 - val_mae: 7.8886 - val_mape: 18.6164\n",
            "\n",
            "Epoch 00064: val_mse did not improve from 105.51492\n",
            "Epoch 65/100\n",
            "295/295 [==============================] - 90s 306ms/step - loss: 15.7532 - mse: 15.7532 - mae: 3.0844 - mape: 7.0653 - val_loss: 107.1688 - val_mse: 107.1688 - val_mae: 7.8115 - val_mape: 18.0804\n",
            "\n",
            "Epoch 00065: val_mse did not improve from 105.51492\n",
            "Epoch 66/100\n",
            "295/295 [==============================] - 90s 306ms/step - loss: 15.9913 - mse: 15.9913 - mae: 3.1212 - mape: 7.1970 - val_loss: 109.5134 - val_mse: 109.5134 - val_mae: 7.8329 - val_mape: 18.1855\n",
            "\n",
            "Epoch 00066: val_mse did not improve from 105.51492\n",
            "Epoch 67/100\n",
            "295/295 [==============================] - 90s 307ms/step - loss: 15.6813 - mse: 15.6813 - mae: 3.0957 - mape: 7.1143 - val_loss: 110.3983 - val_mse: 110.3983 - val_mae: 7.8391 - val_mape: 17.9161\n",
            "\n",
            "Epoch 00067: val_mse did not improve from 105.51492\n",
            "Epoch 68/100\n",
            "295/295 [==============================] - 90s 307ms/step - loss: 15.3401 - mse: 15.3401 - mae: 3.0527 - mape: 7.0198 - val_loss: 108.4034 - val_mse: 108.4034 - val_mae: 7.8569 - val_mape: 18.5730\n",
            "\n",
            "Epoch 00068: val_mse did not improve from 105.51492\n",
            "Epoch 69/100\n",
            "295/295 [==============================] - 90s 306ms/step - loss: 15.2168 - mse: 15.2168 - mae: 3.0448 - mape: 6.9933 - val_loss: 110.2729 - val_mse: 110.2729 - val_mae: 7.9955 - val_mape: 19.2926\n",
            "\n",
            "Epoch 00069: val_mse did not improve from 105.51492\n",
            "Epoch 70/100\n",
            "295/295 [==============================] - 90s 306ms/step - loss: 15.4476 - mse: 15.4476 - mae: 3.0607 - mape: 7.0269 - val_loss: 109.3465 - val_mse: 109.3465 - val_mae: 7.9193 - val_mape: 19.1370\n",
            "\n",
            "Epoch 00070: val_mse did not improve from 105.51492\n",
            "Epoch 71/100\n",
            "295/295 [==============================] - 91s 308ms/step - loss: 16.5354 - mse: 16.5354 - mae: 3.1505 - mape: 7.1080 - val_loss: 119.9368 - val_mse: 119.9368 - val_mae: 8.4337 - val_mape: 20.8101\n",
            "\n",
            "Epoch 00071: val_mse did not improve from 105.51492\n",
            "Epoch 72/100\n",
            "295/295 [==============================] - 90s 306ms/step - loss: 23.5511 - mse: 23.5511 - mae: 3.7197 - mape: 8.1948 - val_loss: 116.0820 - val_mse: 116.0820 - val_mae: 8.2879 - val_mape: 20.3010\n",
            "\n",
            "Epoch 00072: val_mse did not improve from 105.51492\n",
            "Epoch 73/100\n",
            "295/295 [==============================] - 90s 306ms/step - loss: 23.5411 - mse: 23.5411 - mae: 3.6981 - mape: 8.1489 - val_loss: 105.1074 - val_mse: 105.1074 - val_mae: 7.8095 - val_mape: 18.7485\n",
            "\n",
            "Epoch 00073: val_mse improved from 105.51492 to 105.10744, saving model to /content/drive/MyDrive/TeamHurricane/models/best-2021-02-19 20:07:49.h5\n",
            "Epoch 74/100\n",
            "295/295 [==============================] - 90s 306ms/step - loss: 15.6352 - mse: 15.6352 - mae: 3.0757 - mape: 6.9650 - val_loss: 107.0911 - val_mse: 107.0911 - val_mae: 7.9800 - val_mape: 19.4584\n",
            "\n",
            "Epoch 00074: val_mse did not improve from 105.10744\n",
            "Epoch 75/100\n",
            "295/295 [==============================] - 90s 307ms/step - loss: 14.4010 - mse: 14.4010 - mae: 2.9573 - mape: 6.8077 - val_loss: 105.8227 - val_mse: 105.8227 - val_mae: 7.8953 - val_mape: 19.1319\n",
            "\n",
            "Epoch 00075: val_mse did not improve from 105.10744\n",
            "Epoch 76/100\n",
            "295/295 [==============================] - 91s 307ms/step - loss: 13.9577 - mse: 13.9577 - mae: 2.9141 - mape: 6.6815 - val_loss: 105.3926 - val_mse: 105.3926 - val_mae: 7.8727 - val_mape: 19.1545\n",
            "\n",
            "Epoch 00076: val_mse did not improve from 105.10744\n",
            "Epoch 77/100\n",
            "295/295 [==============================] - 91s 307ms/step - loss: 14.1378 - mse: 14.1378 - mae: 2.9303 - mape: 6.7143 - val_loss: 115.4237 - val_mse: 115.4237 - val_mae: 8.3001 - val_mape: 20.4057\n",
            "\n",
            "Epoch 00077: val_mse did not improve from 105.10744\n",
            "Epoch 78/100\n",
            "295/295 [==============================] - 91s 307ms/step - loss: 14.7347 - mse: 14.7347 - mae: 2.9885 - mape: 6.8508 - val_loss: 111.2524 - val_mse: 111.2524 - val_mae: 8.1032 - val_mape: 19.8196\n",
            "\n",
            "Epoch 00078: val_mse did not improve from 105.10744\n",
            "Epoch 79/100\n",
            "295/295 [==============================] - 90s 306ms/step - loss: 15.6928 - mse: 15.6928 - mae: 3.0685 - mape: 7.0057 - val_loss: 118.8573 - val_mse: 118.8573 - val_mae: 8.4541 - val_mape: 21.0343\n",
            "\n",
            "Epoch 00079: val_mse did not improve from 105.10744\n",
            "Epoch 80/100\n",
            "295/295 [==============================] - 91s 308ms/step - loss: 17.9264 - mse: 17.9264 - mae: 3.2502 - mape: 7.2436 - val_loss: 120.3089 - val_mse: 120.3089 - val_mae: 8.4702 - val_mape: 20.5892\n",
            "\n",
            "Epoch 00080: val_mse did not improve from 105.10744\n",
            "Epoch 81/100\n",
            "295/295 [==============================] - 90s 307ms/step - loss: 16.3417 - mse: 16.3417 - mae: 3.1158 - mape: 7.0193 - val_loss: 108.4000 - val_mse: 108.4000 - val_mae: 7.9143 - val_mape: 18.7403\n",
            "\n",
            "Epoch 00081: val_mse did not improve from 105.10744\n",
            "Epoch 82/100\n",
            "295/295 [==============================] - 91s 308ms/step - loss: 14.2525 - mse: 14.2525 - mae: 2.9244 - mape: 6.6696 - val_loss: 110.3446 - val_mse: 110.3446 - val_mae: 8.1076 - val_mape: 19.7020\n",
            "\n",
            "Epoch 00082: val_mse did not improve from 105.10744\n",
            "Epoch 83/100\n",
            "295/295 [==============================] - 91s 307ms/step - loss: 14.5183 - mse: 14.5183 - mae: 2.9641 - mape: 6.7670 - val_loss: 115.9808 - val_mse: 115.9808 - val_mae: 8.1385 - val_mape: 18.8983\n",
            "\n",
            "Epoch 00083: val_mse did not improve from 105.10744\n",
            "Epoch 84/100\n",
            "295/295 [==============================] - 91s 308ms/step - loss: 15.4350 - mse: 15.4350 - mae: 3.0346 - mape: 6.8423 - val_loss: 112.0163 - val_mse: 112.0163 - val_mae: 7.9472 - val_mape: 18.2531\n",
            "\n",
            "Epoch 00084: val_mse did not improve from 105.10744\n",
            "Epoch 85/100\n",
            "295/295 [==============================] - 90s 307ms/step - loss: 16.1730 - mse: 16.1730 - mae: 3.1045 - mape: 6.9535 - val_loss: 118.6486 - val_mse: 118.6486 - val_mae: 8.1055 - val_mape: 18.2645\n",
            "\n",
            "Epoch 00085: val_mse did not improve from 105.10744\n",
            "Epoch 86/100\n",
            "295/295 [==============================] - 90s 307ms/step - loss: 16.0223 - mse: 16.0223 - mae: 3.1220 - mape: 7.0451 - val_loss: 106.5072 - val_mse: 106.5072 - val_mae: 7.8112 - val_mape: 18.3898\n",
            "\n",
            "Epoch 00086: val_mse did not improve from 105.10744\n",
            "Epoch 87/100\n",
            "295/295 [==============================] - 91s 308ms/step - loss: 14.5678 - mse: 14.5678 - mae: 2.9779 - mape: 6.7550 - val_loss: 113.2961 - val_mse: 113.2961 - val_mae: 7.9968 - val_mape: 18.5360\n",
            "\n",
            "Epoch 00087: val_mse did not improve from 105.10744\n",
            "Epoch 88/100\n",
            "295/295 [==============================] - 91s 307ms/step - loss: 13.0386 - mse: 13.0386 - mae: 2.8136 - mape: 6.4348 - val_loss: 109.6258 - val_mse: 109.6258 - val_mae: 7.9013 - val_mape: 18.5677\n",
            "\n",
            "Epoch 00088: val_mse did not improve from 105.10744\n",
            "Epoch 89/100\n",
            "295/295 [==============================] - 91s 307ms/step - loss: 12.4419 - mse: 12.4419 - mae: 2.7586 - mape: 6.3417 - val_loss: 119.1984 - val_mse: 119.1984 - val_mae: 8.3209 - val_mape: 19.6796\n",
            "\n",
            "Epoch 00089: val_mse did not improve from 105.10744\n",
            "Epoch 90/100\n",
            "295/295 [==============================] - 90s 307ms/step - loss: 12.2251 - mse: 12.2251 - mae: 2.7297 - mape: 6.2722 - val_loss: 103.7295 - val_mse: 103.7295 - val_mae: 7.7571 - val_mape: 18.7708\n",
            "\n",
            "Epoch 00090: val_mse improved from 105.10744 to 103.72948, saving model to /content/drive/MyDrive/TeamHurricane/models/best-2021-02-19 20:07:49.h5\n",
            "Epoch 91/100\n",
            "295/295 [==============================] - 91s 307ms/step - loss: 12.3293 - mse: 12.3293 - mae: 2.7455 - mape: 6.3111 - val_loss: 107.4389 - val_mse: 107.4389 - val_mae: 7.9405 - val_mape: 19.2703\n",
            "\n",
            "Epoch 00091: val_mse did not improve from 103.72948\n",
            "Epoch 92/100\n",
            "295/295 [==============================] - 91s 307ms/step - loss: 12.8874 - mse: 12.8874 - mae: 2.7967 - mape: 6.3844 - val_loss: 114.1607 - val_mse: 114.1607 - val_mae: 8.2492 - val_mape: 20.3364\n",
            "\n",
            "Epoch 00092: val_mse did not improve from 103.72948\n",
            "Epoch 93/100\n",
            "295/295 [==============================] - 90s 307ms/step - loss: 15.1390 - mse: 15.1390 - mae: 3.0085 - mape: 6.7967 - val_loss: 121.1651 - val_mse: 121.1651 - val_mae: 8.5664 - val_mape: 21.3701\n",
            "\n",
            "Epoch 00093: val_mse did not improve from 103.72948\n",
            "Epoch 94/100\n",
            "295/295 [==============================] - 91s 307ms/step - loss: 20.9846 - mse: 20.9846 - mae: 3.5226 - mape: 7.8408 - val_loss: 112.7301 - val_mse: 112.7301 - val_mae: 8.2033 - val_mape: 19.9635\n",
            "\n",
            "Epoch 00094: val_mse did not improve from 103.72948\n",
            "Epoch 95/100\n",
            "295/295 [==============================] - 91s 308ms/step - loss: 14.8495 - mse: 14.8495 - mae: 2.9918 - mape: 6.8005 - val_loss: 115.7761 - val_mse: 115.7761 - val_mae: 8.1523 - val_mape: 19.2066\n",
            "\n",
            "Epoch 00095: val_mse did not improve from 103.72948\n",
            "Epoch 96/100\n",
            "295/295 [==============================] - 91s 308ms/step - loss: 12.6273 - mse: 12.6273 - mae: 2.7685 - mape: 6.3512 - val_loss: 106.3574 - val_mse: 106.3574 - val_mae: 7.7966 - val_mape: 18.1133\n",
            "\n",
            "Epoch 00096: val_mse did not improve from 103.72948\n",
            "Epoch 97/100\n",
            "295/295 [==============================] - 91s 307ms/step - loss: 12.5877 - mse: 12.5877 - mae: 2.7553 - mape: 6.3039 - val_loss: 109.6339 - val_mse: 109.6339 - val_mae: 7.9531 - val_mape: 18.7354\n",
            "\n",
            "Epoch 00097: val_mse did not improve from 103.72948\n",
            "Epoch 98/100\n",
            "295/295 [==============================] - 91s 308ms/step - loss: 13.0419 - mse: 13.0419 - mae: 2.7995 - mape: 6.3433 - val_loss: 112.7705 - val_mse: 112.7705 - val_mae: 7.9613 - val_mape: 18.2479\n",
            "\n",
            "Epoch 00098: val_mse did not improve from 103.72948\n",
            "Epoch 99/100\n",
            "295/295 [==============================] - 91s 308ms/step - loss: 14.3158 - mse: 14.3158 - mae: 2.9184 - mape: 6.5851 - val_loss: 116.4943 - val_mse: 116.4943 - val_mae: 8.0344 - val_mape: 18.2811\n",
            "\n",
            "Epoch 00099: val_mse did not improve from 103.72948\n",
            "Epoch 100/100\n",
            "295/295 [==============================] - 91s 308ms/step - loss: 15.1013 - mse: 15.1013 - mae: 3.0037 - mape: 6.7544 - val_loss: 111.9729 - val_mse: 111.9729 - val_mae: 7.9688 - val_mape: 18.3335\n",
            "\n",
            "Epoch 00100: val_mse did not improve from 103.72948\n",
            "just saved model\n"
          ],
          "name": "stdout"
        }
      ]
    },
    {
      "cell_type": "code",
      "metadata": {
        "colab": {
          "base_uri": "https://localhost:8080/"
        },
        "id": "Td8o2Wsqq2W3",
        "outputId": "947a200d-4836-4899-cf59-5809ddcb8899"
      },
      "source": [
        "model.save(final_filename)\n",
        "print(\"just saved model\" )"
      ],
      "execution_count": null,
      "outputs": [
        {
          "output_type": "stream",
          "text": [
            "just saved model\n"
          ],
          "name": "stdout"
        }
      ]
    },
    {
      "cell_type": "code",
      "metadata": {
        "id": "qtuUi6rVcMd5"
      },
      "source": [
        ""
      ],
      "execution_count": null,
      "outputs": []
    }
  ]
}